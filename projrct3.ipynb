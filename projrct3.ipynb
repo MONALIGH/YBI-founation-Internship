{
  "nbformat": 4,
  "nbformat_minor": 0,
  "metadata": {
    "colab": {
      "name": "projrct3.ipynb",
      "provenance": [],
      "collapsed_sections": []
    },
    "kernelspec": {
      "name": "python3",
      "display_name": "Python 3"
    },
    "language_info": {
      "name": "python"
    }
  },
  "cells": [
    {
      "cell_type": "code",
      "execution_count": null,
      "metadata": {
        "id": "Qw5jOmLq7k71"
      },
      "outputs": [],
      "source": [
        "import pandas as pd"
      ]
    },
    {
      "cell_type": "code",
      "source": [
        "import numpy as np"
      ],
      "metadata": {
        "id": "lvvxX_2371J4"
      },
      "execution_count": null,
      "outputs": []
    },
    {
      "cell_type": "code",
      "source": [
        "from sklearn.datasets import make_regression"
      ],
      "metadata": {
        "id": "_LVoQkp67y0A"
      },
      "execution_count": null,
      "outputs": []
    },
    {
      "cell_type": "code",
      "source": [
        "x,y = make_regression(n_samples =5000, n_features=5, coef= False, bias=12, noise = 10, random_state=2529 )"
      ],
      "metadata": {
        "id": "w1ZY-K5H7y3b"
      },
      "execution_count": null,
      "outputs": []
    },
    {
      "cell_type": "code",
      "source": [
        "x, y = make_regression(n_samples=500, n_features=5, coef=False, bias=12, noise = 10, random_state= 2529)"
      ],
      "metadata": {
        "id": "j5QbPGrn-azT"
      },
      "execution_count": null,
      "outputs": []
    },
    {
      "cell_type": "code",
      "source": [
        "x,y,w = make_regression(n_samples=500, n_features=5, coef=True, bias=12, noise = 10, random_state=2529)"
      ],
      "metadata": {
        "id": "Nnii6ZZx-a23"
      },
      "execution_count": null,
      "outputs": []
    },
    {
      "cell_type": "code",
      "source": [
        "x.shape, y.shape"
      ],
      "metadata": {
        "colab": {
          "base_uri": "https://localhost:8080/"
        },
        "id": "8zh5_mbY7y6n",
        "outputId": "697dc0c6-35ea-4362-fdbc-b5a1d0395784"
      },
      "execution_count": null,
      "outputs": [
        {
          "output_type": "execute_result",
          "data": {
            "text/plain": [
              "((5000, 5), (5000,))"
            ]
          },
          "metadata": {},
          "execution_count": 4
        }
      ]
    },
    {
      "cell_type": "code",
      "source": [
        "w\n"
      ],
      "metadata": {
        "colab": {
          "base_uri": "https://localhost:8080/"
        },
        "id": "OH_y1Yhg7y8J",
        "outputId": "d789f586-f7db-4ab6-e65c-36237581866e"
      },
      "execution_count": null,
      "outputs": [
        {
          "output_type": "execute_result",
          "data": {
            "text/plain": [
              "array([29.45661718, 60.14529878, 61.7409438 , 13.32437893, 99.08122896])"
            ]
          },
          "metadata": {},
          "execution_count": 10
        }
      ]
    },
    {
      "cell_type": "code",
      "source": [
        "x.shape, y.shape"
      ],
      "metadata": {
        "colab": {
          "base_uri": "https://localhost:8080/"
        },
        "id": "-G2j87yG7y-s",
        "outputId": "85331936-8cf6-452f-e063-926ec1748c78"
      },
      "execution_count": null,
      "outputs": [
        {
          "output_type": "execute_result",
          "data": {
            "text/plain": [
              "((500, 5), (500,))"
            ]
          },
          "metadata": {},
          "execution_count": 11
        }
      ]
    },
    {
      "cell_type": "code",
      "source": [
        "x[0:5]"
      ],
      "metadata": {
        "colab": {
          "base_uri": "https://localhost:8080/"
        },
        "id": "H5g3NdWv7zBL",
        "outputId": "93c13a99-dd2d-4490-ce0b-f09044880195"
      },
      "execution_count": null,
      "outputs": [
        {
          "output_type": "execute_result",
          "data": {
            "text/plain": [
              "array([[ 0.77913208, -1.09701784, -0.14239962,  1.02427891, -1.0708024 ],\n",
              "       [-0.6925009 ,  0.45535977,  0.34707569, -0.32456746,  0.21970203],\n",
              "       [-0.03901601, -0.3265115 ,  0.59793721,  0.61686653, -0.6237489 ],\n",
              "       [-0.61566117, -0.11782129, -0.98234619, -0.78292727,  0.42713048],\n",
              "       [ 1.30822207, -0.72541559,  0.60187975,  0.33285998,  1.48506184]])"
            ]
          },
          "metadata": {},
          "execution_count": 12
        }
      ]
    },
    {
      "cell_type": "code",
      "source": [
        "y[0:5]"
      ],
      "metadata": {
        "colab": {
          "base_uri": "https://localhost:8080/"
        },
        "id": "DArw_I_k7zDy",
        "outputId": "c1d03634-6342-4b45-973f-8439c58e43db"
      },
      "execution_count": null,
      "outputs": [
        {
          "output_type": "execute_result",
          "data": {
            "text/plain": [
              "array([-136.21858395,   49.83118244,  -29.81097858,  -31.74001475,\n",
              "        193.0687778 ])"
            ]
          },
          "metadata": {},
          "execution_count": 13
        }
      ]
    },
    {
      "cell_type": "code",
      "source": [
        "x.shape, y.shape"
      ],
      "metadata": {
        "colab": {
          "base_uri": "https://localhost:8080/"
        },
        "id": "PAumpQoU7zGq",
        "outputId": "a0c5b3fa-4236-42a9-ed4a-747f30132d61"
      },
      "execution_count": null,
      "outputs": [
        {
          "output_type": "execute_result",
          "data": {
            "text/plain": [
              "((500, 5), (500,))"
            ]
          },
          "metadata": {},
          "execution_count": 14
        }
      ]
    },
    {
      "cell_type": "code",
      "source": [
        "from sklearn.model_selection import train_test_split"
      ],
      "metadata": {
        "id": "XZuJe66C7zJL"
      },
      "execution_count": null,
      "outputs": []
    },
    {
      "cell_type": "code",
      "source": [
        "x_train , x_test, y_train, y_test = train_test_split(x,y,test_size = 0.3, random_state = 2529)"
      ],
      "metadata": {
        "id": "DqbdcvCE7zMn"
      },
      "execution_count": null,
      "outputs": []
    },
    {
      "cell_type": "code",
      "source": [
        "x_train.shape, x_test.shape, y_train.shape, y_test.shape"
      ],
      "metadata": {
        "colab": {
          "base_uri": "https://localhost:8080/"
        },
        "id": "ZqZ7yjA-AV5i",
        "outputId": "d3da2f07-ae75-4eb8-c6b8-d31ef7120917"
      },
      "execution_count": null,
      "outputs": [
        {
          "output_type": "execute_result",
          "data": {
            "text/plain": [
              "((350, 5), (150, 5), (350,), (150,))"
            ]
          },
          "metadata": {},
          "execution_count": 18
        }
      ]
    },
    {
      "cell_type": "code",
      "source": [
        "from sklearn.linear_model import LinearRegression"
      ],
      "metadata": {
        "id": "1CBtRIm3AV8F"
      },
      "execution_count": null,
      "outputs": []
    },
    {
      "cell_type": "code",
      "source": [
        "model = LinearRegression()"
      ],
      "metadata": {
        "id": "Gz9G2HW4AV-j"
      },
      "execution_count": null,
      "outputs": []
    },
    {
      "cell_type": "code",
      "source": [
        "model.fit(x_train, y_train)"
      ],
      "metadata": {
        "colab": {
          "base_uri": "https://localhost:8080/"
        },
        "id": "a5EMxyHMAzc9",
        "outputId": "4307f091-7266-4b87-bbce-0a2617c5295b"
      },
      "execution_count": null,
      "outputs": [
        {
          "output_type": "execute_result",
          "data": {
            "text/plain": [
              "LinearRegression()"
            ]
          },
          "metadata": {},
          "execution_count": 21
        }
      ]
    },
    {
      "cell_type": "code",
      "source": [
        "model.intercept_"
      ],
      "metadata": {
        "colab": {
          "base_uri": "https://localhost:8080/"
        },
        "id": "BXQ7PT27AzfR",
        "outputId": "539d965f-aaf0-419a-e950-aa4f138309f5"
      },
      "execution_count": null,
      "outputs": [
        {
          "output_type": "execute_result",
          "data": {
            "text/plain": [
              "12.804677404011848"
            ]
          },
          "metadata": {},
          "execution_count": 25
        }
      ]
    },
    {
      "cell_type": "code",
      "source": [
        "model.coef_"
      ],
      "metadata": {
        "colab": {
          "base_uri": "https://localhost:8080/"
        },
        "id": "uQwCkH3qAzix",
        "outputId": "904e674d-1214-4680-f07a-912252e331c8"
      },
      "execution_count": null,
      "outputs": [
        {
          "output_type": "execute_result",
          "data": {
            "text/plain": [
              "array([30.14690156, 59.8508539 , 61.00591796, 13.33058614, 98.52732683])"
            ]
          },
          "metadata": {},
          "execution_count": 26
        }
      ]
    },
    {
      "cell_type": "code",
      "source": [
        "y_pred = model.predict(x_test)"
      ],
      "metadata": {
        "id": "wkcJhGEoBTes"
      },
      "execution_count": null,
      "outputs": []
    },
    {
      "cell_type": "code",
      "source": [
        "y_pred.shape"
      ],
      "metadata": {
        "colab": {
          "base_uri": "https://localhost:8080/"
        },
        "id": "rs_3-NVMBTg8",
        "outputId": "86e66639-e26d-4133-c12f-d3db21114b64"
      },
      "execution_count": null,
      "outputs": [
        {
          "output_type": "execute_result",
          "data": {
            "text/plain": [
              "(150,)"
            ]
          },
          "metadata": {},
          "execution_count": 28
        }
      ]
    },
    {
      "cell_type": "code",
      "source": [
        "y_pred"
      ],
      "metadata": {
        "colab": {
          "base_uri": "https://localhost:8080/"
        },
        "id": "bf596_IYBTkr",
        "outputId": "830aba1d-97b0-41bb-eaa9-430c6282c4ae"
      },
      "execution_count": null,
      "outputs": [
        {
          "output_type": "execute_result",
          "data": {
            "text/plain": [
              "array([ -32.2347268 ,  -91.78838198, -111.32428609,   32.28900762,\n",
              "       -292.09184678,  232.80381314,   45.45589568, -206.64663509,\n",
              "       -234.70619469,  -99.53722469,  109.51230639, -112.24192419,\n",
              "        136.86734982,    9.50169605, -402.91778394,  -77.75468931,\n",
              "         31.16247075,  -11.08354812,   31.85126688,   37.4989766 ,\n",
              "        -33.17312782,  165.96248357,  136.44084324,   43.71369762,\n",
              "        169.91060611, -255.66815548,   -6.97645701, -115.23137387,\n",
              "        -27.09548272,   -2.27310513,  -97.06342353,   57.62031761,\n",
              "        185.7350271 ,  -60.45930909,   11.20091455,  176.09294043,\n",
              "         90.16023475,  121.22117973,  -12.7823069 ,  -46.97799373,\n",
              "         84.74765683,   38.71436232,  -71.35539323,   -1.53368019,\n",
              "        -30.73878351,   54.71398149,  -21.39863976, -272.82340302,\n",
              "       -118.65913112,  -38.95749518,  -56.94266543,  -64.97208225,\n",
              "         83.15562417,   84.93116766, -118.46836522,  181.58821651,\n",
              "        -49.51641057,  -21.16415589,   24.61247158,   15.50449997,\n",
              "        177.48102965, -280.00659035,  132.68190996, -146.3719296 ,\n",
              "        181.40142785,  -99.13298792,   39.59393464,  116.66353758,\n",
              "        179.36615051,  156.10519607,   57.69154717,   29.13217725,\n",
              "       -102.086819  ,  -96.43086036,  -48.54067383,  102.07730091,\n",
              "        109.27743273,  157.25553456,  135.70953968,  -22.19144017,\n",
              "       -204.84997999,  132.85622533,   40.9548816 ,   93.87274125,\n",
              "        -38.68637545,   20.16165644, -173.4777815 ,   31.78904817,\n",
              "        174.6024829 ,  143.73624186,  144.25571404,   50.3249105 ,\n",
              "        -66.49817321,  -61.60857001,   55.56455718,  -24.66893769,\n",
              "       -129.90063813,   60.13995635,  134.52686195,  128.62980994,\n",
              "        301.91544779,   11.76874944,  -11.48619142, -319.75425702,\n",
              "        -89.22401612,  -89.77736186,  -22.84820519,  -56.45869267,\n",
              "         90.15710992,  166.38819788,  145.02106406,  133.01449822,\n",
              "        178.06301411,   27.83443113, -229.56624865,  -13.87055036,\n",
              "        -65.16788489,   55.579956  ,  158.30138329,   23.80733476,\n",
              "        -44.61754504, -104.29641738,   57.66550889, -177.80605374,\n",
              "        -74.28729277,  127.77641272,   90.26103721,  302.49937215,\n",
              "        -49.64748714,  -47.52519963,  -77.40654164,  -40.02137064,\n",
              "         11.9445304 , -114.7616647 ,  220.84662992, -105.83580108,\n",
              "       -124.76236231, -188.66177139,  117.19088414, -101.22112675,\n",
              "        124.60506733, -282.53782645,   73.67016676,  -12.16238081,\n",
              "       -161.68545386,   44.68598417,  172.95607293,    3.54588201,\n",
              "         38.89340344, -169.02005187])"
            ]
          },
          "metadata": {},
          "execution_count": 29
        }
      ]
    },
    {
      "cell_type": "code",
      "source": [
        "from sklearn.metrics import mean_squared_error, mean_absolute_error, mean_absolute_percentage_error, r2_score"
      ],
      "metadata": {
        "id": "expFSxUSAWCG"
      },
      "execution_count": null,
      "outputs": []
    },
    {
      "cell_type": "code",
      "source": [
        "mean_squared_error(y_test, y_pred)"
      ],
      "metadata": {
        "colab": {
          "base_uri": "https://localhost:8080/"
        },
        "id": "jHXXDueDB8cv",
        "outputId": "c0820a4a-ba37-47fa-bf36-37d1a65f1ad0"
      },
      "execution_count": null,
      "outputs": [
        {
          "output_type": "execute_result",
          "data": {
            "text/plain": [
              "93.17298608096334"
            ]
          },
          "metadata": {},
          "execution_count": 31
        }
      ]
    },
    {
      "cell_type": "code",
      "source": [
        "mean_absolute_percentage_error(y_test, y_pred)"
      ],
      "metadata": {
        "colab": {
          "base_uri": "https://localhost:8080/"
        },
        "id": "FQaMPZJNB8e8",
        "outputId": "673c68fc-f38e-498f-e144-c56ef2b9b88b"
      },
      "execution_count": null,
      "outputs": [
        {
          "output_type": "execute_result",
          "data": {
            "text/plain": [
              "0.5394385232604642"
            ]
          },
          "metadata": {},
          "execution_count": 32
        }
      ]
    },
    {
      "cell_type": "code",
      "source": [
        "r2_score(y_test, y_pred)"
      ],
      "metadata": {
        "colab": {
          "base_uri": "https://localhost:8080/"
        },
        "id": "GxfuUUbBCV_J",
        "outputId": "39633ffa-08bd-4c51-88bc-94c28e92387c"
      },
      "execution_count": null,
      "outputs": [
        {
          "output_type": "execute_result",
          "data": {
            "text/plain": [
              "0.9944221597296871"
            ]
          },
          "metadata": {},
          "execution_count": 33
        }
      ]
    },
    {
      "cell_type": "code",
      "source": [
        ""
      ],
      "metadata": {
        "id": "ZRNNpQU-CWB4"
      },
      "execution_count": null,
      "outputs": []
    },
    {
      "cell_type": "code",
      "source": [
        ""
      ],
      "metadata": {
        "id": "PY6QAg5GCWEN"
      },
      "execution_count": null,
      "outputs": []
    },
    {
      "cell_type": "code",
      "source": [
        ""
      ],
      "metadata": {
        "id": "CN_ZyDeGCWGQ"
      },
      "execution_count": null,
      "outputs": []
    },
    {
      "cell_type": "code",
      "source": [
        ""
      ],
      "metadata": {
        "id": "QwkQJLuGCWJw"
      },
      "execution_count": null,
      "outputs": []
    },
    {
      "cell_type": "code",
      "source": [
        ""
      ],
      "metadata": {
        "id": "IKxJ6fq2B8hI"
      },
      "execution_count": null,
      "outputs": []
    }
  ]
}